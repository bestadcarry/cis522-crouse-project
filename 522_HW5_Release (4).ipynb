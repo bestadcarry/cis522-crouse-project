{
  "nbformat": 4,
  "nbformat_minor": 0,
  "metadata": {
    "colab": {
      "name": "522_HW5_Release.ipynb",
      "provenance": [],
      "collapsed_sections": [],
      "toc_visible": true
    },
    "kernelspec": {
      "name": "python3",
      "display_name": "Python 3"
    }
  },
  "cells": [
    {
      "cell_type": "markdown",
      "metadata": {
        "id": "Q5jOo9H1dACi",
        "colab_type": "text"
      },
      "source": [
        "#Homework 5: Reinforcement Learning\n",
        "\n",
        "**Overview:** In HW5 you will get familiarized with many techniques in the intersection of Reinforcement Learning & Deep Learning. You will solve the 2 control problems from OpenAI gym by training a reinforcement learning agent using deep learning as an aid.\n",
        "\n",
        "**Online Policy:** You may look up guides online that give you general advice / explanations on RL and may look for instance at the PyTorch documentation but may not copy code from anywhere online. We will be transparent that there exists some solutions to this problem online, however, copying any such code is strictly prohibited. We have spent many hours constructing this homework so that you do not have to utilize such resources and as such will be strict in enforcing this policy. Any violations may be escalated to the Office of Student Conduct (OSC).\n",
        "\n",
        "**Colab:** We note that Colab has become increasingly unstable over the course of the semester (right now it's being extremely unstable for our staff). We've designed this homework so that if you would like, it's perfectly possible to complete the assignment without a GPU, so feel free to download this notebook as a jupyter notebook and develop locally instead of colab -- up to you!\n",
        "\n",
        "**Teams:** This homework can be completed by a maximum of **two** students. If you choose to do this homework individually, that is fine as well. \n",
        "\n",
        "**Autograder:** One thing you'll note is that there's no autograder for this homework! We'll be grading everything manually. There will just be one submision on Gradescope for this homework.\n",
        "\n",
        "This homework will be due on **April 25th, 2020 at 11:59pm**."
      ]
    },
    {
      "cell_type": "markdown",
      "metadata": {
        "id": "cJswbG2qdK__",
        "colab_type": "text"
      },
      "source": [
        "## Q0. Setting up OpenAI Gym Environment (0 pts)\n",
        "\n",
        "In this homework, you will be using OpenAI Gym, which is a toolkit for developing and comparing reinforcement learning algorithms. It supports teaching agents everything from walking to playing games like Pong or Pinball.\n",
        "\n",
        "We encourage you to read up the OpenAI gym environment documentation [here](https://gym.openai.com/docs/).\n",
        "\n",
        "Begin by installing the necessary packages, if necessary:"
      ]
    },
    {
      "cell_type": "code",
      "metadata": {
        "id": "-r2vmLMjdYX_",
        "colab_type": "code",
        "outputId": "a1151d8b-d492-4223-e510-782cf547391c",
        "colab": {
          "base_uri": "https://localhost:8080/",
          "height": 71
        }
      },
      "source": [
        "!pip install gym pyvirtualdisplay > /dev/null 2>&1\n",
        "!apt-get install -y xvfb python-opengl ffmpeg > /dev/null 2>&1\n",
        "!pip install box2d-py gym[box2d] > /dev/null 2>&1\n",
        "\n",
        "from pyvirtualdisplay import Display\n",
        "display = Display(visible=0, size=(1400, 900))\n",
        "display.start()"
      ],
      "execution_count": 1,
      "outputs": [
        {
          "output_type": "stream",
          "text": [
            "xdpyinfo was not found, X start can not be checked! Please install xdpyinfo!\n"
          ],
          "name": "stderr"
        },
        {
          "output_type": "execute_result",
          "data": {
            "text/plain": [
              "<Display cmd_param=['Xvfb', '-br', '-nolisten', 'tcp', '-screen', '0', '1400x900x24', ':1001'] cmd=['Xvfb', '-br', '-nolisten', 'tcp', '-screen', '0', '1400x900x24', ':1001'] oserror=None return_code=None stdout=\"None\" stderr=\"None\" timeout_happened=False>"
            ]
          },
          "metadata": {
            "tags": []
          },
          "execution_count": 1
        }
      ]
    },
    {
      "cell_type": "markdown",
      "metadata": {
        "id": "eYfyOp0wyqmY",
        "colab_type": "text"
      },
      "source": [
        "# Part 1: Value Iteration with Grid-World (15 pts)\n",
        "\n",
        "Grid-Worlds are simple worlds which, at their simplest, are Grids of size $M \\times N$ where an agent can navigate from one grid-square to another. Typically there is a goal location on this grid as well as certain squares considered \"threats\" that the agent must avoid. In this example, we are exploring \"CliffWorld\" where certain squares are marked as \"Cliffs\" and incur a reward of -100 if the agent navigates to them. Additionally, a reward of -1 is incurred on all transitions to regions not the cliff. The simulation ends when the agent reaches the goal square. A diagram of CliffWorld can be seen below (Image taken from \"Reinforcement Learning\" by Richard S. Sutton & Andrew G. Barto):\n",
        "\n",
        "![Cliff World](https://i.imgur.com/veEChFB.png)\n",
        "\n",
        "Run the following code snippets to install and make the CliffWorld environment"
      ]
    },
    {
      "cell_type": "code",
      "metadata": {
        "id": "FkfgZGd90Xa6",
        "colab_type": "code",
        "outputId": "1c9c3d32-81ef-487f-ec76-a39475bf689e",
        "colab": {
          "base_uri": "https://localhost:8080/",
          "height": 296
        }
      },
      "source": [
        "!git clone https://github.com/podondra/gym-gridworlds.git\n",
        "!pip install gym-gridworlds"
      ],
      "execution_count": 0,
      "outputs": [
        {
          "output_type": "stream",
          "text": [
            "Cloning into 'gym-gridworlds'...\n",
            "remote: Enumerating objects: 97, done.\u001b[K\n",
            "remote: Total 97 (delta 0), reused 0 (delta 0), pack-reused 97\u001b[K\n",
            "Unpacking objects: 100% (97/97), done.\n",
            "Collecting gym-gridworlds\n",
            "  Downloading https://files.pythonhosted.org/packages/00/6a/62b65640733b10bcffa683c2fe28d8adc41f8a6f82c4954aad3660a8da6e/gym_gridworlds-0.0.2-py3-none-any.whl\n",
            "Requirement already satisfied: numpy in /usr/local/lib/python3.6/dist-packages (from gym-gridworlds) (1.18.3)\n",
            "Requirement already satisfied: gym in /usr/local/lib/python3.6/dist-packages (from gym-gridworlds) (0.17.1)\n",
            "Requirement already satisfied: scipy in /usr/local/lib/python3.6/dist-packages (from gym->gym-gridworlds) (1.4.1)\n",
            "Requirement already satisfied: pyglet<=1.5.0,>=1.4.0 in /usr/local/lib/python3.6/dist-packages (from gym->gym-gridworlds) (1.5.0)\n",
            "Requirement already satisfied: cloudpickle<1.4.0,>=1.2.0 in /usr/local/lib/python3.6/dist-packages (from gym->gym-gridworlds) (1.3.0)\n",
            "Requirement already satisfied: six in /usr/local/lib/python3.6/dist-packages (from gym->gym-gridworlds) (1.12.0)\n",
            "Requirement already satisfied: future in /usr/local/lib/python3.6/dist-packages (from pyglet<=1.5.0,>=1.4.0->gym->gym-gridworlds) (0.16.0)\n",
            "Installing collected packages: gym-gridworlds\n",
            "Successfully installed gym-gridworlds-0.0.2\n"
          ],
          "name": "stdout"
        }
      ]
    },
    {
      "cell_type": "code",
      "metadata": {
        "id": "4Ma_du0_1kep",
        "colab_type": "code",
        "colab": {}
      },
      "source": [
        "import gym\n",
        "import gym_gridworlds\n",
        "import numpy as np\n",
        "import matplotlib.pyplot as plt\n",
        "\n",
        "env = gym.make('Cliff-v0')"
      ],
      "execution_count": 0,
      "outputs": []
    },
    {
      "cell_type": "markdown",
      "metadata": {
        "id": "1-CGdGra4RBk",
        "colab_type": "text"
      },
      "source": [
        "### 1.1: Understanding the simulator\n",
        "\n",
        "You can use the `observation_space` and `action_space` attributes to look at properties of the state and action spaces, respectively. Run the following code snippets below:"
      ]
    },
    {
      "cell_type": "code",
      "metadata": {
        "id": "-X70OvNx1oZv",
        "colab_type": "code",
        "outputId": "f587040c-5af2-40e7-ef91-f256aa1b7bb8",
        "colab": {
          "base_uri": "https://localhost:8080/",
          "height": 68
        }
      },
      "source": [
        "print(env.action_space)\n",
        "print(env.observation_space)\n",
        "print(env)\n",
        "state = env.reset()"
      ],
      "execution_count": 0,
      "outputs": [
        {
          "output_type": "stream",
          "text": [
            "Discrete(4)\n",
            "Tuple(Discrete(4), Discrete(12))\n",
            "<CliffEnv<Cliff-v0>>\n"
          ],
          "name": "stdout"
        }
      ]
    },
    {
      "cell_type": "code",
      "metadata": {
        "id": "OiOevEJlSsCs",
        "colab_type": "code",
        "outputId": "4587727b-7752-4b13-e82e-290975425055",
        "colab": {
          "base_uri": "https://localhost:8080/",
          "height": 51
        }
      },
      "source": [
        "print(env.action_space.n)\n",
        "print(env.observation_space[1].n)"
      ],
      "execution_count": 0,
      "outputs": [
        {
          "output_type": "stream",
          "text": [
            "4\n",
            "12\n"
          ],
          "name": "stdout"
        }
      ]
    },
    {
      "cell_type": "markdown",
      "metadata": {
        "id": "bJ-SX6-Y4ham",
        "colab_type": "text"
      },
      "source": [
        "**Q1a (5 pts)** What do each of these variables mean? How big is your action space and what does each action value represent (i.e. what action does a 0 represent in the action space)? How big is your observation space? What does this mean? Answer all these questions in your writeup. To answer this question, play around with the simulator below and print out some of the returned values from the simulator."
      ]
    },
    {
      "cell_type": "code",
      "metadata": {
        "id": "Fgg_cLcl3dBs",
        "colab_type": "code",
        "outputId": "fd669989-3d46-4608-d4cb-d079264c6922",
        "colab": {
          "base_uri": "https://localhost:8080/",
          "height": 34
        }
      },
      "source": [
        "ACTION = 3    # 0 up 1 right 2 down 3 left\n",
        "state, reward, done, _ = env.step(ACTION)\n",
        "print(state, reward)    "
      ],
      "execution_count": 0,
      "outputs": [
        {
          "output_type": "stream",
          "text": [
            "(3, 0) -1\n"
          ],
          "name": "stdout"
        }
      ]
    },
    {
      "cell_type": "markdown",
      "metadata": {
        "id": "F6t1prjo5fjb",
        "colab_type": "text"
      },
      "source": [
        "### 1.2: Value Iteration\n",
        "**Q1b (10 pts)** Now that you understand the simulator, let's make an algorithm to solve this problem! As you remember from CIS 519 / CIS 520, one way of solving Markov Decision Processes is an algorithm called **Value Iteration**. Use value iteration to find an optimal policy for the CliffWorld problem. Once your value iteration has converged, display the optimal policy / value function using the helper method below. Put the image in your writeup and explain the found policy. Now, using your optimal found policy, run your optimal policy function with the simulator -- did it reach the goal state? Explain in your writeup.\n",
        "\n",
        "**Note:** There's not cutoffs for this question, as long as your policy + policy explanation seem reasonable you will get the points.\n",
        "\n",
        "**Resources:** If you need a refresher on Value Iteration, highly recommending Andrew Ng's notes on them [here](http://cs229.stanford.edu/notes/cs229-notes12.pdf)."
      ]
    },
    {
      "cell_type": "code",
      "metadata": {
        "id": "_WtG3LEd6o8p",
        "colab_type": "code",
        "colab": {}
      },
      "source": [
        "# TODO: Insert your code here to perform value iteration\n",
        "num_actions = 4\n",
        "num_states = 48\n",
        "shape = (4, 12)\n",
        "value = np.zeros(shape)\n",
        "policy = np.zeros(shape, dtype=int)\n",
        "gamma = 0.90\n",
        "significant_improvement = 0.01\n",
        "\n",
        "# finds the highest value action (max_a) in state s\n",
        "def best_action_value(s):  \n",
        "    best_a = None\n",
        "    best_value = float('-inf')\n",
        "\n",
        "    # loop through all possible actions to find the best current action\n",
        "    for a in range (0, num_actions):\n",
        "        env.S = s\n",
        "        s_new, rew, done, info = env.step(a) #take the action\n",
        "        v = rew + gamma * value[s_new]\n",
        "        if v > best_value:\n",
        "          best_value = v\n",
        "          best_a = a\n",
        "        if done:\n",
        "          best_value = v\n",
        "          best_a = a\n",
        "          break\n",
        "    return best_a"
      ],
      "execution_count": 0,
      "outputs": []
    },
    {
      "cell_type": "code",
      "metadata": {
        "id": "NCMyRZhBVhsV",
        "colab_type": "code",
        "outputId": "8f6fd775-738d-43b2-d06c-44169761140d",
        "colab": {
          "base_uri": "https://localhost:8080/",
          "height": 34
        }
      },
      "source": [
        "shape = (4, 12)\n",
        "iteration = 0\n",
        "while True:\n",
        "    # biggest_change is referred to by the mathematical symbol delta in equations\n",
        "    biggest_change = 0\n",
        "    for s in range (0, num_states):\n",
        "        s = np.unravel_index(s, shape)\n",
        "        a = s[0]==3\n",
        "        b = s[1] in [1,2,3,4,5,6,7,8,9,10,11]\n",
        "        if not (a & b):\n",
        "          old_v = value[s]\n",
        "          action = best_action_value(s) #choosing an action with the highest future reward\n",
        "          env.S = s # goto the state\n",
        "          s_new, rew, done, info = env.step(action) #take the action\n",
        "          # if done:\n",
        "          #   rew =10\n",
        "          value[s] = rew + gamma * value[s_new] #Update Value for the state using Bellman equation\n",
        "          policy[s] = action\n",
        "          biggest_change = max(biggest_change, np.abs(old_v - value[s]))\n",
        "    \n",
        "    iteration += 1\n",
        "    if biggest_change < significant_improvement:\n",
        "        print (iteration,' iterations done')\n",
        "        break"
      ],
      "execution_count": 0,
      "outputs": [
        {
          "output_type": "stream",
          "text": [
            "15  iterations done\n"
          ],
          "name": "stdout"
        }
      ]
    },
    {
      "cell_type": "code",
      "metadata": {
        "id": "ZUqLjEz0aTTn",
        "colab_type": "code",
        "outputId": "d823fca2-121b-4727-f4a3-e2fa7dd196a7",
        "colab": {
          "base_uri": "https://localhost:8080/",
          "height": 309
        }
      },
      "source": [
        "display_policy(policy, value)"
      ],
      "execution_count": 0,
      "outputs": [
        {
          "output_type": "display_data",
          "data": {
            "image/png": "[encoded data removed]",
            "text/plain": [
              "<Figure size 1080x1080 with 1 Axes>"
            ]
          },
          "metadata": {
            "tags": [],
            "needs_background": "light"
          }
        }
      ]
    },
    {
      "cell_type": "code",
      "metadata": {
        "id": "i37QpPL5EwEz",
        "colab_type": "code",
        "outputId": "9ccc96cd-33c1-434a-f248-5ba1e1bafb5f",
        "colab": {
          "base_uri": "https://localhost:8080/",
          "height": 309
        }
      },
      "source": [
        "import cv2\n",
        "import numpy as np\n",
        "from matplotlib import pyplot as plt\n",
        "\n",
        "def display_policy(policy_table, value_table):\n",
        "  \"\"\" Helper function to plot your learned policy and value function.\n",
        "      Feel free to modify this however you like\n",
        "\n",
        "      Args:\n",
        "        policy_table (np.array) : Array of size [4, 12] where each entry represents the action between 0-3 corresponding to your learned policy.\n",
        "        value_table  (np.array) : Array of size [4, 12] where each entry represents the value for the optimal action\n",
        "  \"\"\"\n",
        "\n",
        "  grid_width = 12\n",
        "  grid_height = 4\n",
        "  square_side = 100\n",
        "\n",
        "  margin = 50\n",
        "\n",
        "  height = square_side * (grid_height + 1)\n",
        "  width = square_side * (grid_width + 1)\n",
        "\n",
        "  image = np.zeros((height,width,3), np.uint8)\n",
        "  image.fill(255)\n",
        "  \n",
        "  color = (0, 0, 0)\n",
        "  thickness = 2\n",
        "\n",
        "  arrow_margin = 25\n",
        "\n",
        "  text_offset = (-20, 30)\n",
        "\n",
        "  max_val = np.max(value_table)\n",
        "  min_val = np.min(value_table)\n",
        "\n",
        "  min_col = np.array([255.0, 0.0, 0.0])\n",
        "  max_col = np.array([0.0, 255.0, 0.0])\n",
        "\n",
        "  for x in range(0, policy_table.shape[1]):\n",
        "    for y in range(0, policy_table.shape[0]):\n",
        "\n",
        "      value = value_table[y][x]\n",
        "\n",
        "      interp_fac = (value - min_val) / (max_val - min_val)\n",
        "      interp_col = interp_fac * min_col + (1.0 - interp_fac) * max_col\n",
        "      interp_col = (interp_col.astype(np.int).tolist())\n",
        "\n",
        "      start_point = (margin + square_side * x, margin + square_side * y)\n",
        "      end_point = (margin + square_side * (x + 1), margin + square_side * (y + 1))\n",
        "\n",
        "      cv2.rectangle(image, start_point, end_point, interp_col, cv2.FILLED)\n",
        "\n",
        "      x_offset = [0, square_side / 2.0 - arrow_margin, 0, -square_side / 2.0 + arrow_margin]\n",
        "      y_offset = [-square_side / 2.0 + arrow_margin, 0, square_side / 2.0 - arrow_margin, 0]\n",
        "\n",
        "      action = policy_table[y][x]\n",
        "      arrow_start = (int(start_point[0] +  square_side / 2.0), int(start_point[1] +  square_side / 2.0))\n",
        "      arrow_end = (int(np.round(arrow_start[0] + x_offset[action])), int(np.round(arrow_start[1] + y_offset[action])))\n",
        "\n",
        "      cv2.arrowedLine(image, arrow_start, arrow_end, color, thickness, tipLength = 0.5) \n",
        "\n",
        "      text_pos = (arrow_start[0] + text_offset[0], arrow_start[1] + text_offset[1])\n",
        "      cv2.putText(image, '%.2f' % (value_table[y][x]), text_pos, cv2.FONT_ITALIC, .7, (255, 255, 255), 2)\n",
        "  \n",
        "  \n",
        "  plt.figure(figsize=(15,15))\n",
        "  plt.axis('off')\n",
        "  plt.imshow(image)\n",
        "  \n",
        "  plt.show()\n",
        "\n",
        "\n",
        "## Example of how to use with just random actions and values\n",
        "rand_actions = np.random.randint(4, size=(4, 12))\n",
        "rand_values = np.random.rand(4, 12)\n",
        "\n",
        "display_policy(rand_actions, rand_values)"
      ],
      "execution_count": 0,
      "outputs": [
        {
          "output_type": "display_data",
          "data": {
            "image/png": "[encoded data removed]",
            "text/plain": [
              "<Figure size 1080x1080 with 1 Axes>"
            ]
          },
          "metadata": {
            "tags": [],
            "needs_background": "light"
          }
        }
      ]
    },
    {
      "cell_type": "markdown",
      "metadata": {
        "id": "bFwb5swIdjJC",
        "colab_type": "text"
      },
      "source": [
        "# Part 2: Setting up Deep Q-Learning with Cart Pole (35 pts)\n",
        "\n",
        "Recall that in reinforcement learning, an actor's job is to make **actions** $A$ in accordance with observed **states** $S$ in a particular environment. In return, the actor receives a reward $r \\in R$. The actor is then expected to refine their strategy in order to make better actions in future.\n",
        "\n",
        "In this section, we'll be looking at the Cart Pole problem: a cart is holding a pole up, and the actor's job is to apply force (left or right) to the cart to keep the pole up.\n",
        "\n",
        "Run the following code to import the environment for the Cart Pole problem:\n",
        "\n"
      ]
    },
    {
      "cell_type": "code",
      "metadata": {
        "id": "JDfGYALBjsTS",
        "colab_type": "code",
        "colab": {}
      },
      "source": [
        "import gym\n",
        "\n",
        "env = gym.make('CartPole-v0')"
      ],
      "execution_count": 0,
      "outputs": []
    },
    {
      "cell_type": "code",
      "metadata": {
        "id": "wXCyUecNO9nF",
        "colab_type": "code",
        "outputId": "7f043566-a8b1-4015-b356-3ff56f09ef95",
        "colab": {
          "base_uri": "https://localhost:8080/",
          "height": 34
        }
      },
      "source": [
        "n_action = env.action_space.n\n",
        "print(n_action)"
      ],
      "execution_count": 0,
      "outputs": [
        {
          "output_type": "stream",
          "text": [
            "2\n"
          ],
          "name": "stdout"
        }
      ]
    },
    {
      "cell_type": "markdown",
      "metadata": {
        "id": "TDj6W4g_j8Iu",
        "colab_type": "text"
      },
      "source": [
        "`env` is now a variable that contains information about the Cart Pole environment. Let's get a better sense of what its state and action spaces look like.\n",
        "\n",
        "### 2.1: Understanding the simulator\n",
        "\n",
        "You can use the `observation_space` and `action_space` attributes to look at properties of the state and action spaces, respectively. Run the following code snippets below:"
      ]
    },
    {
      "cell_type": "code",
      "metadata": {
        "id": "P5BvTq5SkZT_",
        "colab_type": "code",
        "outputId": "5f3a4e4a-92f8-4151-b97b-4b84a882dde3",
        "colab": {
          "base_uri": "https://localhost:8080/",
          "height": 86
        }
      },
      "source": [
        "print(env.observation_space)\n",
        "print(env.observation_space.high)\n",
        "print(env.observation_space.low)\n",
        "print(env.action_space)"
      ],
      "execution_count": 3,
      "outputs": [
        {
          "output_type": "stream",
          "text": [
            "Box(4,)\n",
            "[4.8000002e+00 3.4028235e+38 4.1887903e-01 3.4028235e+38]\n",
            "[-4.8000002e+00 -3.4028235e+38 -4.1887903e-01 -3.4028235e+38]\n",
            "Discrete(2)\n"
          ],
          "name": "stdout"
        }
      ]
    },
    {
      "cell_type": "markdown",
      "metadata": {
        "id": "whB4wLLrxbkk",
        "colab_type": "text"
      },
      "source": [
        "**Q2a (5 pts)** What do each of variables mean? What are the individual components of the observation space? In the writeup, explain what each of the four elements of the observation space are and what their bounds are. Explain the environment's action space in the writeup as well.\n",
        "\n",
        "If you need more help figuring out what these values are, feel free to watch the recitation where we discuss what these parameters represent. Additionally you can look the [Open AI Github Page](https://github.com/openai/gym/wiki/CartPole-v0). \n",
        "\n",
        "**Note:** This page is a bit out of date so be careful to not use the exact numbers listed on the github page."
      ]
    },
    {
      "cell_type": "markdown",
      "metadata": {
        "id": "2cjaG72TkZuc",
        "colab_type": "text"
      },
      "source": [
        "### 2.2: Understanding the Reward Function\n",
        "Next, we'll explore the reward function for the DQN and derive a loss function for it. First, let's understand how rewards are generated for the Cartpole problem.\n",
        "\n",
        "First, look again at the [Open AI Github Page](https://github.com/openai/gym/wiki/CartPole-v0).\n",
        "\n",
        "**Q2b (5 pts)** In your writeup describe the reward function for this problem. How much is the actor rewarded on each timestep of an episode, and under what conditions does it occur? "
      ]
    },
    {
      "cell_type": "markdown",
      "metadata": {
        "id": "9RyfY0dVzk5Q",
        "colab_type": "text"
      },
      "source": [
        "### 2.3: Deriving the Loss Function"
      ]
    },
    {
      "cell_type": "markdown",
      "metadata": {
        "id": "p1g5ZIYYj0gP",
        "colab_type": "text"
      },
      "source": [
        "In Q-learning, an actor can gauge which actions to pick at a certain state by approximating the function $Q : S \\times A \\to \\mathbb{R}$; that is, $Q(s, a)$ for a state $s$ and an action $a$ is a measure of the value of taking action $a$ while at state $s$. \n",
        "\n",
        "Recall that we want to ideally update $Q$ according to the following update rule:\n",
        "\n",
        "$$ Q(s, a) \\leftarrow (1 - \\alpha)Q(s_t,a_t) + \\alpha\\left(r_t + \\gamma\\max_a Q(s_{t+1}, a_{t+1}) \\right)$$\n",
        "where $s_{t+1}$ is the state that results from taking action $a$ in state $s_t$, $r_t$ is the reward obtained, and $\\gamma$ is the discount factor.\n",
        "\n",
        "**Intuition:** The intuition behind this update rule, is that $Q(s,a)$ estimates the total reward that an agent will receive for the remainder of the simulation given the state $s_t$ and action $a_t$ that the agent takes. Therefore, we weight the old approximation by a factor of $1 - \\alpha$ and then we estimate the total future reward by taking the extrinsic reward $r$ we received, and adding to it the maximum estimated reward we can receive from state $s'$ by choosing the reward that maximizes $Q(s', a')$.\n",
        "\n",
        "When does this converge? Note that if both $Q(s_t,a_t)$ and $\\left(r_t + \\gamma\\max_a Q(s_{t+1}, a_{t+1})\\right)$ are always equal, then $Q(s,a)$ has converged. Therefore to approximate the Q function, we can instead minimize the following function:\n",
        "\n",
        "$$ ((r_t + \\gamma \\max_a Q(s_{t+1}, a)) - Q(s_t, a_t))^2$$"
      ]
    },
    {
      "cell_type": "markdown",
      "metadata": {
        "id": "ksz_5QsNA4qd",
        "colab_type": "text"
      },
      "source": [
        "**Q2c (10 pts)** Using only the values below,  code up the loss function for a Q-Learning algorithm in PyTorch specifically with respect to the Cart-Pole problem. Submit a screenshot of your implementation in your writeup as well as an explanation.\n",
        "\n",
        "**Note:** Don't forget about the action space you expored in part 2.1!"
      ]
    },
    {
      "cell_type": "code",
      "metadata": {
        "id": "TTex-pkWBDf6",
        "colab_type": "code",
        "colab": {}
      },
      "source": [
        "def calculate_loss(model,training_batch,loss_fn,gamma,Batch_size):\n",
        "  expected_future_reward = torch.zeros(Batch_size)\n",
        "  future_reward =[]\n",
        "  i = 0\n",
        "  for state, action, reward, next_state, done in training_batch:\n",
        "    if done:\n",
        "      future_reward.append(reward)\n",
        "    else:\n",
        "      next_q = model(torch.tensor(next_state).float()).detach()\n",
        "      future_reward.append(reward + gamma * torch.max(next_q).item())\n",
        "    expected_future_reward[i] = model(torch.tensor(state).float())[action]\n",
        "    i = i + 1\n",
        "  loss = loss_fn(torch.Tensor(expected_future_reward),torch.Tensor(future_reward))\n",
        "  return loss"
      ],
      "execution_count": 0,
      "outputs": []
    },
    {
      "cell_type": "markdown",
      "metadata": {
        "id": "DcIRN1z7EkZl",
        "colab_type": "text"
      },
      "source": [
        "### 2.4: Defining the Neural Network Architecture"
      ]
    },
    {
      "cell_type": "markdown",
      "metadata": {
        "id": "pJ_YE4rJk1Dh",
        "colab_type": "text"
      },
      "source": [
        "In regular Q-Learning we have a table of size $|S| \\times |A|$ where each entry in the table represents the estimated reward. However, this space can be extremely large, so we instead approximate this mapping with a neural network instead.\n",
        "\n",
        "Think carefully about how you should define your neural network architecture. What are your inputs? What are your outputs?\n",
        "\n",
        "**Q2d (5 pts)** Implement the neural network to approximate the Q function below. In your writeup explain what the inputs and outputs are for your neural network."
      ]
    },
    {
      "cell_type": "code",
      "metadata": {
        "id": "mo_l5CTHk0LQ",
        "colab_type": "code",
        "colab": {}
      },
      "source": [
        "import torch\n",
        "import torch.nn as nn\n",
        "\n",
        "class DQNetwork(nn.Module):\n",
        "    \"\"\" Template class for your DQN. Please feel free to modify headers as needed.\n",
        "    \"\"\"\n",
        "    def __init__(self): \n",
        "      super(DQNetwork, self).__init__()\n",
        "      hidden_dim = 64\n",
        "      self.model = torch.nn.Sequential(\n",
        "                            torch.nn.Linear(4, hidden_dim),\n",
        "                            torch.nn.LeakyReLU(),\n",
        "                            torch.nn.Linear(hidden_dim, hidden_dim),\n",
        "                            torch.nn.LeakyReLU(),\n",
        "                            torch.nn.Linear(hidden_dim, 2)\n",
        "                    )\n",
        "\n",
        "    def forward(self,x):\n",
        "      return self.model(x)"
      ],
      "execution_count": 0,
      "outputs": []
    },
    {
      "cell_type": "markdown",
      "metadata": {
        "id": "WqMWhVd7Favf",
        "colab_type": "text"
      },
      "source": [
        "### 2.5: Replay Buffer\n",
        "\n",
        "Before we actually write our training loop, let's carefully think about how the training loop should be structured first. One's first thought is that the best course of action is to run the training linearly with time. By this we mean you start your simulation at time t=0, perform the loss minimization above, progress to time t=1, repeat until the simulation has finished. \n",
        "\n",
        "**This is a bad idea.** \n",
        "\n",
        "Why? In the Cart-Pole problem, the simulation stops (and is successful) if the cart can balance the pole for 200 subsequent steps. Remember that neural networks have one key fault, which is that they exhibit **catastrophic forgetting**. Therefore, by the time the neural network gets to the last 200 steps, it may have forgotten completely what it learned in the first 100 steps! \n",
        "\n",
        "\n",
        "To solve this issue, it is common practice in Deep Q-Learning to implement **Memory Replay**. When implementing this, we sample a batch representing previous situations encountered, and train on this instead. Since these situations are randomly sampled and have no dependence on time, we break this time dependence and threfore circumvent the issue of catastrophic forgetting.\n",
        "\n",
        "**Q2e (5 pts)** Implement a ReplayBuffer below as a FIFO queue of maximum capacity that you initialize the buffer with. You should be able to push a new memory to the replay buffer, and also randomly sample a batch from the ReplayBuffer. In the writeup, describe your tuple \"replay\" in the push function. What are the elements of your tuple? Why? \n",
        "\n",
        "*Hint:* think about the loss function you derived earlier."
      ]
    },
    {
      "cell_type": "code",
      "metadata": {
        "id": "rj8ZSqbGI5fo",
        "colab_type": "code",
        "colab": {}
      },
      "source": [
        "class ReplayBuffer(object):\n",
        "  \"\"\" ReplayBuffer is a Buffer that allows us to implement Memory Replay.\n",
        "      Feel free to modify the method signatures as you like, this is simply\n",
        "      how we implemented it.\n",
        "  \"\"\"\n",
        "  def __init__(self, capacity):\n",
        "    \"\"\" Initializes the ReplayBuffer\n",
        "    Args:\n",
        "      capacity (int): The maximum number of memories stored in the ReplayBuffer\n",
        "    \"\"\"\n",
        "    self.capacity = capacity \n",
        "    self.memory = []\n",
        "    self.position = 0\n",
        "\n",
        "  def push(self, replay):\n",
        "    \"\"\" Pushes a new memory to ReplayBuffer. If at capacity, removes first\n",
        "    memory stored (FIFO).\n",
        "    Args:\n",
        "      replay (Tuple): The tuple of all pertinent information for the replay\n",
        "    \"\"\"\n",
        "    if len(self.memory) < self.capacity:\n",
        "      self.memory.append(None)\n",
        "    self.memory[self.position] = replay\n",
        "    self.position = (self.position + 1) % self.capacity\n",
        "\n",
        "  def sample(self, batch_size):\n",
        "    \"\"\" Randomly samples a batch of size 'batch_size' from the ReplayBuffer\n",
        "    Args:\n",
        "      batch_size (int): Integer representing the desired batch size to be sampled\n",
        "    Returns:\n",
        "      Tuple representing the replay \n",
        "    Hint: You can use random.sample to do this really easily\n",
        "    \"\"\"\n",
        "    return random.sample(self.memory, batch_size)\n",
        "\n",
        "  def __len__(self):\n",
        "    \"\"\" \n",
        "    Returns:\n",
        "      (int) Returns the current length of the Replay Buffer\n",
        "    \"\"\"\n",
        "    return len(self.memory)"
      ],
      "execution_count": 0,
      "outputs": []
    },
    {
      "cell_type": "markdown",
      "metadata": {
        "id": "5Zvucp6tpUig",
        "colab_type": "text"
      },
      "source": [
        "### 2.6: $\\varepsilon$-greedy action selection\n",
        "\n",
        "*Curiosity killed the cat, right?* Well in reinforcement learning, curiosity, namely *exploration* is crucial in reinforcement learning to learn adequately. A common motif is **exploration vs. exploitation**, which describes the tradeoffs between selecting the best possible action known to us versus exploring the action space more by selecting a random action. You can think of this tradeoff like \"should I go to that restaurant that I know is really really good, or should I instead try out that new restaurant that I've never been to\". However, since we're all social distancing, I guess this point is moot anyways.\n",
        "\n",
        "Now, let's implement the **$\\varepsilon$ greedy algorithm**, which does exactly what was mentioned above:\n",
        "\n",
        "**Q2f (5 pts)** Implement a function that accepts a set of Q-values corresponding to a set of actions $A$, and a parameter $\\varepsilon$, that does the following:\n",
        "- With probability $\\varepsilon$, returns the action that yields the maximum Q-value.\n",
        "- With probability $1 - \\varepsilon$, returns a randomly chosen action. \n",
        "\n",
        "In your writeup, answer the following question:\n",
        "If you have simulated $N=10000$ steps, and have a $\\varepsilon$ of .99, what is the expected number of random actions that you will take? What about if $\\varepsilon$ is .9 instead? How many more random actions will you take with the latter value of $\\varepsilon$ than the former. Explain how varying this parameter changes how the agent learns.\n"
      ]
    },
    {
      "cell_type": "code",
      "metadata": {
        "id": "li_W7qiLp58k",
        "colab_type": "code",
        "colab": {}
      },
      "source": [
        "def epsilon_greedy_action(q_values, epsilon):\n",
        "    \"\"\"\n",
        "    Implements an epsilon-greedy action selection.\n",
        "    \n",
        "    Args:\n",
        "      q_values (Tensor): Tensor representing the predicted q_values for each action\n",
        "      epsilon  (Float):  Float from 0-1 representing the probability of selecting a random action, instead of the optimal\n",
        "      \n",
        "    \"\"\"\n",
        "    if torch.rand(1) < epsilon:\n",
        "      #return torch.tensor(random.sample([0,1],1))\n",
        "      # if torch.rand(1) < 0.5:\n",
        "      #   return 0\n",
        "      # else:\n",
        "      #   return 1\n",
        "      return random.randint(0,1)\n",
        "    else:\n",
        "      return torch.argmax(q_values).detach().numpy()"
      ],
      "execution_count": 0,
      "outputs": []
    },
    {
      "cell_type": "markdown",
      "metadata": {
        "id": "LNDbdgYlPnzD",
        "colab_type": "text"
      },
      "source": [
        "# Part 3: Running Deep Q-Learning with Cart Pole (50 pts)"
      ]
    },
    {
      "cell_type": "markdown",
      "metadata": {
        "id": "FYgEmf5BeXYc",
        "colab_type": "text"
      },
      "source": [
        "Now that we have all of our components implemented, let's put them all together! First implement the function to update the weights for the DQN:"
      ]
    },
    {
      "cell_type": "code",
      "metadata": {
        "id": "MVh3CCT-XIpA",
        "colab_type": "code",
        "colab": {}
      },
      "source": [
        "def cat(tensor1, tensor2, batch):\n",
        "  out = torch.zeros(batch)\n",
        "  for i in range(batch):\n",
        "    out[i] = tensor1[i][tensor2[i]]\n",
        "  return out\n",
        "\n",
        "def learn(model,optimizer,training_batch,loss_fn,gamma,Batch_size):\n",
        "  \"\"\" Method that updates the DQN parameters for a single batch sampled from the \n",
        "      Memory Replay Buffer. Feel free to modify the method header as you like.\n",
        "  \"\"\"\n",
        "  \"\"\" Pseudocode:\n",
        "      1. Sample batch from ReplayBuffer\n",
        "      2. From the ReplayBuffer feed in state at time t to the DQN\n",
        "      3. From the ReplayBuffer feed in state at time t + 1 to the DQN\n",
        "      4. Detach the output from step 3\n",
        "      5. Calculate Loss\n",
        "      6. Zero Optimizer Gradient\n",
        "      7. Backpropagate Loss\n",
        "      8. Step Optimizer\n",
        "  \"\"\"\n",
        "  \n",
        "  # next_q = model(torch.tensor(training_batch[:,6:10]).float())\n",
        "  # future_reward = torch.from_numpy(training_batch[:,5]) + gamma*torch.max(next_q,1)[0]\n",
        "  # out = model(torch.tensor(training_batch[:,0:4]).float())   #.detach().numpy()\n",
        "  # expected_future_reward = cat(out,training_batch[:,4].astype(int),Batch_size)\n",
        "  # loss = loss_fn(future_reward,expected_future_reward)\n",
        "  \n",
        "  expected_future_reward = torch.zeros(Batch_size)\n",
        "  future_reward =[]\n",
        "  i = 0\n",
        "  for state, action, reward, next_state, done in training_batch:\n",
        "    if done:\n",
        "      future_reward.append(reward)\n",
        "    else:\n",
        "      next_q = model(torch.tensor(next_state).float()).detach()\n",
        "      future_reward.append(reward + gamma * torch.max(next_q).item())\n",
        "\n",
        "    expected_future_reward[i] = model(torch.tensor(state).float())[action]\n",
        "    i = i + 1\n",
        "  loss = loss_fn(torch.Tensor(expected_future_reward),torch.Tensor(future_reward))\n",
        "\n",
        "  optimizer.zero_grad()\n",
        "  loss.backward()\n",
        "  optimizer.step()\n",
        "  return loss"
      ],
      "execution_count": 0,
      "outputs": []
    },
    {
      "cell_type": "code",
      "metadata": {
        "id": "ZOBTx-uMq3nP",
        "colab_type": "code",
        "colab": {}
      },
      "source": [
        "import numpy as np\n",
        "import random\n",
        "from torch.autograd import Variable"
      ],
      "execution_count": 0,
      "outputs": []
    },
    {
      "cell_type": "code",
      "metadata": {
        "id": "joQtn8As9nN2",
        "colab_type": "code",
        "outputId": "edb2eab0-e717-46a4-8228-434f45ea47cf",
        "colab": {
          "base_uri": "https://localhost:8080/",
          "height": 34
        }
      },
      "source": [
        "a = torch.tensor([[0,1],[2,3],[4,5]])\n",
        "b = np.array([2,3])\n",
        "c = np.array([4,5])\n",
        "d = np.concatenate((a, b,c), axis=None)\n",
        "print(torch.max(a,1)[0])"
      ],
      "execution_count": 0,
      "outputs": [
        {
          "output_type": "stream",
          "text": [
            "tensor([1, 3, 5])\n"
          ],
          "name": "stdout"
        }
      ]
    },
    {
      "cell_type": "markdown",
      "metadata": {
        "id": "HjwWKzJ7eiJq",
        "colab_type": "text"
      },
      "source": [
        "Now, let's implement the loop that simulates the CartPole problem for a single episode."
      ]
    },
    {
      "cell_type": "code",
      "metadata": {
        "id": "lfPLHqhaPwNf",
        "colab_type": "code",
        "colab": {}
      },
      "source": [
        "def run_episode(env,model,optimizer,ReplayBuffer,gamma,loss_fn,batch_size,epsilon):\n",
        "  \"\"\" Method that runs a single episode of the CartPole problem. Feel free to\n",
        "      modify the method header as you like. \n",
        "  \"\"\"\n",
        "  state = env.reset()\n",
        "  done = False\n",
        "  totalreward = 0\n",
        "  iters = 0\n",
        "  loss_list = []\n",
        "  while not done:\n",
        "    \"\"\" Pseudocode:\n",
        "        1. Input state into your network to get the predicted Q Values for each action\n",
        "        2. Use \"epsilon_greedy_action\" to get your next action from your Q-Values\n",
        "    \"\"\"\n",
        "    \n",
        "    # 3. Once you've done the first two steps, you can simulate tacking the action\n",
        "    # \"action\" in the environment as follows. Here we assume \"action\"\n",
        "    # is an integer that is either 0 or 1 (left or right).\n",
        "\n",
        "    # Return Values: \n",
        "    # next_state: (Tuple) Next state after having taken action \"action\"\n",
        "    # reward    : (int)   Reward received for taking action \"action\"\n",
        "    # done      : (bool)  Whether or not the simulation has reached an ending condition (see github repo linked earlier for more information)\n",
        "    q_values = model(torch.tensor(state).float())\n",
        "    action = epsilon_greedy_action(q_values,epsilon)\n",
        "    next_state, reward, done, _ = env.step(action)  #np.array(action)\n",
        "    \n",
        "    #datapoint = np.concatenate((state, action, reward, next_state),axis=None)\n",
        "    #datapoint = np.concatenate((state, action, reward, next_state, done),axis=None)\n",
        "    datapoint = (state, action, reward, next_state, done)\n",
        "\n",
        "    ReplayBuffer.push(datapoint)\n",
        "    state = next_state\n",
        "    \"\"\" Pseudocode (cont):\n",
        "        3.5 (Optional) Call cool_video.add_frame to add a frame to your video\n",
        "        4. Push this information to your ReplayBuffer\n",
        "        5. Set your current state to the next state returned\n",
        "        6. Call \"learn\" for a single batch\n",
        "        6.5 (Optional) Call cool_video.done to signal that it finished the episode\n",
        "        7. Check if the simulation is done, and if so exit out of the function\n",
        "           If the simulation is not done, then we loop and repeat steps 1-7\n",
        "    \"\"\"\n",
        "    Batch_size = batch_size\n",
        "    if ReplayBuffer.__len__() < batch_size:\n",
        "      Batch_size = ReplayBuffer.__len__()\n",
        "    # else:\n",
        "    #   Batch_size = batch_size\n",
        "    training_batch = ReplayBuffer.sample(Batch_size)\n",
        "    training_batch = np.asarray(training_batch)\n",
        "    loss = learn(model,optimizer,training_batch,loss_fn,gamma,Batch_size)\n",
        "    loss_list.append(loss)\n",
        "    totalreward += reward\n",
        "    iters += 1\n",
        "  average_loss = sum(loss_list)/iters\n",
        "  return totalreward, iters, average_loss"
      ],
      "execution_count": 0,
      "outputs": []
    },
    {
      "cell_type": "markdown",
      "metadata": {
        "id": "pvf8cLetepeA",
        "colab_type": "text"
      },
      "source": [
        "Finally, let's run the loop for the desired # of episodes!"
      ]
    },
    {
      "cell_type": "code",
      "metadata": {
        "id": "1Nj_OCTsd8cB",
        "colab_type": "code",
        "outputId": "158a811c-71c5-412a-9fe9-f5e06a972f7e",
        "colab": {
          "base_uri": "https://localhost:8080/",
          "height": 1000
        }
      },
      "source": [
        "import matplotlib.pyplot as plt\n",
        "EPISODES = 150 # Insert the # of episodes you want to run for\n",
        "loss_fn = nn.MSELoss()\n",
        "# TODO: Run \"run_episode\" for the number of desired episodes\n",
        "model = DQNetwork()\n",
        "optimizer = torch.optim.Adam(model.parameters(), lr=0.001)\n",
        "capacity = 1000\n",
        "replayBuffer = ReplayBuffer(capacity)\n",
        "gamma = 0.9\n",
        "batch_size = 20\n",
        "\n",
        "epsilon = 0.2\n",
        "eps_decay=0.95\n",
        "\n",
        "reward = []\n",
        "loss_per_episode = []\n",
        "for i in range(EPISODES):\n",
        "  totalreward, iters, average_loss = run_episode(env,model,optimizer,replayBuffer,gamma,loss_fn,batch_size,epsilon)\n",
        "  print(totalreward)\n",
        "  reward.append(totalreward)\n",
        "  loss_per_episode.append(average_loss)\n",
        "  epsilon = max(epsilon * eps_decay, 0.01)\n",
        "\n",
        "window = 1\n",
        "weights = np.repeat(1.0, window) / window\n",
        "smas1 = np.convolve(reward, weights, 'valid')\n",
        "smas2 = np.convolve(loss_per_episode, weights, 'valid')\n",
        "plt.plot(smas1)\n",
        "plt.show()\n",
        "plt.plot(smas2)\n",
        "plt.show()\n",
        "# If you want to generate the video, call cool_video.generate_video_at_path\n",
        "# to generate your training video at your desired path. We recommend saving to\n",
        "# Google Drive so you can watch it immediately."
      ],
      "execution_count": 31,
      "outputs": [
        {
          "output_type": "stream",
          "text": [
            "8.0\n",
            "9.0\n",
            "9.0\n",
            "9.0\n",
            "8.0\n",
            "12.0\n",
            "13.0\n",
            "9.0\n",
            "10.0\n",
            "10.0\n",
            "10.0\n",
            "10.0\n",
            "9.0\n",
            "8.0\n",
            "11.0\n",
            "10.0\n",
            "9.0\n",
            "11.0\n",
            "11.0\n",
            "10.0\n",
            "9.0\n",
            "10.0\n",
            "8.0\n",
            "12.0\n",
            "11.0\n",
            "12.0\n",
            "11.0\n",
            "9.0\n",
            "9.0\n",
            "10.0\n",
            "12.0\n",
            "14.0\n",
            "12.0\n",
            "11.0\n",
            "11.0\n",
            "15.0\n",
            "10.0\n",
            "13.0\n",
            "11.0\n",
            "13.0\n",
            "13.0\n",
            "13.0\n",
            "16.0\n",
            "22.0\n",
            "50.0\n",
            "8.0\n",
            "8.0\n",
            "10.0\n",
            "10.0\n",
            "10.0\n",
            "12.0\n",
            "11.0\n",
            "15.0\n",
            "60.0\n",
            "17.0\n",
            "21.0\n",
            "18.0\n",
            "25.0\n",
            "21.0\n",
            "29.0\n",
            "30.0\n",
            "45.0\n",
            "60.0\n",
            "30.0\n",
            "104.0\n",
            "26.0\n",
            "96.0\n",
            "79.0\n",
            "57.0\n",
            "109.0\n",
            "150.0\n",
            "190.0\n",
            "200.0\n",
            "200.0\n",
            "179.0\n",
            "173.0\n",
            "148.0\n",
            "162.0\n",
            "166.0\n",
            "157.0\n",
            "200.0\n",
            "174.0\n",
            "200.0\n",
            "182.0\n",
            "194.0\n",
            "200.0\n",
            "197.0\n",
            "198.0\n",
            "200.0\n",
            "200.0\n",
            "185.0\n",
            "200.0\n",
            "194.0\n",
            "200.0\n",
            "189.0\n",
            "169.0\n",
            "189.0\n",
            "183.0\n",
            "192.0\n",
            "173.0\n",
            "167.0\n",
            "174.0\n",
            "159.0\n",
            "172.0\n",
            "160.0\n",
            "200.0\n",
            "145.0\n",
            "166.0\n",
            "165.0\n",
            "200.0\n",
            "162.0\n",
            "200.0\n",
            "200.0\n",
            "194.0\n",
            "156.0\n",
            "146.0\n",
            "136.0\n",
            "179.0\n",
            "146.0\n",
            "170.0\n",
            "189.0\n",
            "194.0\n",
            "173.0\n",
            "193.0\n",
            "200.0\n",
            "200.0\n",
            "200.0\n",
            "184.0\n",
            "186.0\n",
            "69.0\n",
            "200.0\n",
            "200.0\n",
            "200.0\n",
            "79.0\n",
            "82.0\n",
            "78.0\n",
            "166.0\n",
            "24.0\n",
            "196.0\n",
            "200.0\n",
            "200.0\n",
            "200.0\n",
            "200.0\n",
            "200.0\n",
            "200.0\n",
            "179.0\n",
            "200.0\n",
            "200.0\n",
            "200.0\n",
            "200.0\n"
          ],
          "name": "stdout"
        },
        {
          "output_type": "display_data",
          "data": {
            "image/png": "[encoded data removed]",
            "text/plain": [
              "<Figure size 432x288 with 1 Axes>"
            ]
          },
          "metadata": {
            "tags": [],
            "needs_background": "light"
          }
        },
        {
          "output_type": "display_data",
          "data": {
            "image/png": "[encoded data removed]",
            "text/plain": [
              "<Figure size 432x288 with 1 Axes>"
            ]
          },
          "metadata": {
            "tags": [],
            "needs_background": "light"
          }
        }
      ]
    },
    {
      "cell_type": "markdown",
      "metadata": {
        "id": "onFZJVjbeu3L",
        "colab_type": "text"
      },
      "source": [
        "**Q3a (30 pts)** After implementing the above, tune your hyperparameters until you have a CartPole implementation that averages a reward of > 175 over 10 episodes. Having that performance will give you full credit for this problem. \n",
        "\n",
        "In your writeup report your loss graph (you can either choose to plot the loss per step of each episode, or the average loss over an entire episode -- the former will be more noisy). Also in your writeup report a plot that shows the total reward obtained per episode. Also report your average reward over your final 10 episodes of training.\n",
        "\n",
        "Breakdown of points:\n",
        "\n",
        "1.   Loss graph (5 pts)\n",
        "2.   Reward graph (5 pts)\n",
        "3.   Performance (20 pts):\n",
        "\n",
        "     a. >= 175 average over 10 episodes (20/20 pts) \n",
        "\n",
        "     b. >= 150 average over 10 episodes (15/20 pts)\n",
        "\n",
        "     c. >= 100 average over 10 episodes (10/20 pts)\n",
        "\n",
        "     d. >= 50 average over 10 episodes (5/20 pts)\n",
        "\n",
        "\n",
        "\n",
        "\n",
        "\n",
        "**Extra Credit (3 pts):** As extra credit, also plot on top of this a curve that displays the running average reward for the past 10 episodes (effectively smoothing out this curve). \n",
        "\n",
        "**Note:** We know everyone is tired of tensorboard at this point so feel free to use matplotlib or whatever plotting software you like best."
      ]
    },
    {
      "cell_type": "markdown",
      "metadata": {
        "id": "t4bMXaUdfmOX",
        "colab_type": "text"
      },
      "source": [
        "**Q3b (10 pts)** In the writeup explain how your process for tuning hyperparameters as well as what your final hyperparamters are."
      ]
    },
    {
      "cell_type": "markdown",
      "metadata": {
        "id": "vNlEf9ZSfwBv",
        "colab_type": "text"
      },
      "source": [
        "**Q3c (10 pts)** Remember how in step 4 of the learn function you detached the output from the previous step? Try not detaching it instead. Report the new loss / reward curves in the writeup. Also in your writeup, intuitively explain why this occurs / why it is therefore necessary to detach the output."
      ]
    },
    {
      "cell_type": "code",
      "metadata": {
        "colab_type": "code",
        "id": "UcXtPyi5WVFy",
        "colab": {}
      },
      "source": [
        "####### don't detach the output from the previous step##########\n",
        "\n",
        "def learn(model,optimizer,training_batch,loss_fn,gamma,Batch_size):\n",
        "  \"\"\" Method that updates the DQN parameters for a single batch sampled from the \n",
        "      Memory Replay Buffer. Feel free to modify the method header as you like.\n",
        "  \"\"\"\n",
        "  \"\"\" Pseudocode:\n",
        "      1. Sample batch from ReplayBuffer\n",
        "      2. From the ReplayBuffer feed in state at time t to the DQN\n",
        "      3. From the ReplayBuffer feed in state at time t + 1 to the DQN\n",
        "      5. Calculate Loss\n",
        "      6. Zero Optimizer Gradient\n",
        "      7. Backpropagate Loss\n",
        "      8. Step Optimizer\n",
        "  \"\"\"\n",
        "  expected_future_reward = torch.zeros(Batch_size)\n",
        "  future_reward =[]\n",
        "  i = 0\n",
        "  for state, action, reward, next_state, done in training_batch:\n",
        "    if done:\n",
        "      future_reward.append(reward)\n",
        "    else:\n",
        "      next_q = model(torch.tensor(next_state).float())\n",
        "      future_reward.append(reward + gamma * torch.max(next_q).item())\n",
        "\n",
        "    expected_future_reward[i] = model(torch.tensor(state).float())[action]\n",
        "    i = i + 1\n",
        "  loss = loss_fn(torch.Tensor(expected_future_reward),torch.Tensor(future_reward))\n",
        "\n",
        "  optimizer.zero_grad()\n",
        "  loss.backward()\n",
        "  optimizer.step()\n",
        "  return loss"
      ],
      "execution_count": 0,
      "outputs": []
    },
    {
      "cell_type": "markdown",
      "metadata": {
        "id": "8VWkoQDpgHp-",
        "colab_type": "text"
      },
      "source": [
        "## Generate a Really Cool Video \n",
        "\n",
        "This is completely optional, but in this section we provide some code so you can generate a really cool video that shows your CartPole learning over time! Show the video so you can brag to your friends and convince them to take CIS 522 next year! "
      ]
    },
    {
      "cell_type": "code",
      "metadata": {
        "id": "uxDwoseMgssh",
        "colab_type": "code",
        "colab": {}
      },
      "source": [
        "import matplotlib.pyplot as plt\n",
        "import cv2\n",
        "\n",
        "class CoolVideo:\n",
        "  \"\"\" Use this class to generate a cool video that shows your training progress over time!\n",
        "      Use it to debug, brag, whatever you feel like. Each time you get a higher total reward\n",
        "      it keeps the associated frames in the output video.\n",
        "  \"\"\"\n",
        "  def __init__(self):\n",
        "    self.curr_episode_buffer = []\n",
        "    self.full_video_buffer = []\n",
        "    self.max_reward = 0\n",
        "\n",
        "  def add_frame(self, env, episode):\n",
        "    frame = env.render(mode='rgb_array')\n",
        "    font = cv2.FONT_HERSHEY_SIMPLEX\n",
        "    frame = cv2.putText(frame, f'Episode: {episode}',(50,350), font, .5,(0,0,0),1)\n",
        "    frame = cv2.putText(frame, f'Reward: {len(self.curr_episode_buffer) + 1}',(150,350), font, .5,(0,0,0),1)\n",
        "    self.curr_episode_buffer.append(frame)\n",
        "    # TODO: Add the text for episode + step\n",
        "    pass\n",
        "  def done(self, total_reward):\n",
        "    if total_reward > self.max_reward:\n",
        "      self.max_reward = total_reward\n",
        "      self.full_video_buffer.extend(self.curr_episode_buffer)\n",
        "    self.curr_episode_buffer = []\n",
        "\n",
        "  def generate_video_at_path(self, path):\n",
        "    # NOTE: Filename at end of path must end in .avi\n",
        "    all_frames = cool_video.full_video_buffer\n",
        "\n",
        "    framerate = 30\n",
        "    fourcc = cv2.VideoWriter_fourcc(*'MJPG')\n",
        "    frame_shape = (400, 600)\n",
        "    video_writer = cv2.VideoWriter(path, fourcc, framerate, (frame_shape[1], frame_shape[0]), True)\n",
        "\n",
        "    for frame in all_frames:\n",
        "      video_writer.write(frame)\n",
        "\n",
        "    video_writer.release()\n",
        "\n",
        "cool_video = CoolVideo()"
      ],
      "execution_count": 0,
      "outputs": []
    },
    {
      "cell_type": "markdown",
      "metadata": {
        "id": "DW6xA0ZCgtBN",
        "colab_type": "text"
      },
      "source": [
        "On a side note -- on behalf of all the staff we just want to thank all of you so much for being incredible students! We're being serious in saying that we've learned from all of you as much as you've learned from us. Be sure to keep in touch with the TAs and Dr. Kording -- we'd love to hear what you're up to in the future! Also if you end up making billions of dollars with your super cool unicorn Deep Learning startup, don't forget to remember where it all started ;) JK but it really has been a pleasure teaching all of you!"
      ]
    },
    {
      "cell_type": "markdown",
      "metadata": {
        "id": "I0rcW-WsJu8x",
        "colab_type": "text"
      },
      "source": [
        "# Submission Instructions\n",
        "\n",
        "The deadline for all parts of this assignment is **April 25, 2020 at 11:59pm**.\n",
        "\n",
        "There are two submissions on Gradescope:\n",
        "*   HW5 - Reinforcement Learning (Writeup)\n",
        "*   HW5 - Reinforcement learning (Programming)\n",
        "\n",
        "For *HW5 - Reinforcement Learning (Writeup)* submit your written responses to the questions above as the file **\"522_HW5_writeup.pdf\"**\n",
        "\n",
        "For *HW5 - Reinforcement Learning (Programming)* submit this notebook with the title **\"522_HW5_notebook.ipynb\"**\n",
        "\n",
        "**Autograder:** As mentioned earlier, there's no autograder for this homework -- all of it will be graded manually! "
      ]
    }
  ]
}